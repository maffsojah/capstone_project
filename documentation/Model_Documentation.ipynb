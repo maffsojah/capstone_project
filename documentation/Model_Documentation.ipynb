{
 "cells": [
  {
   "cell_type": "markdown",
   "metadata": {},
   "source": [
    "## Introduction\n",
    "\n",
    "### Bank Customer Classification\n",
    "\n",
    "\n",
    "### Problem Statement\n",
    "\n",
    "\n",
    "### Classification Problem"
   ]
  },
  {
   "cell_type": "markdown",
   "metadata": {},
   "source": [
    "## Apache Spark\n",
    "\n",
    "Apache Spark is a cluster-based, open-source computing system mainly useful for working with very large data sets. Parallel computing and fault tolerance are built-in features of Spark architecture. Spark Core is the main component of Spark and provides general purpose data processing functions over a cluster of machines. Additional components built on top of Spark Core bring more functionality such as machine learning.\n",
    "\n",
    "### What type of Classification?\n",
    "\n",
    "**Multiclass classification** \n",
    "\n",
    "It means a classification task with more than two classes; e.g., classify a set of images of fruits which may be oranges, apples, or pears. Multiclass classification makes the assumption that each sample is assigned to one and only one label: a fruit can be either an apple or a pear but not both at the same time.\n",
    "\n",
    "\n",
    "**Multilabel classification**\n",
    "\n",
    "It assigns to each sample a set of target labels. This can be thought as predicting properties of a data-point that are not mutually exclusive, such as topics that are relevant for a document. A text might be about any of religion, politics, finance or education at the same time or none of these.\n",
    "\n",
    "\n",
    "*This model is a multiclass classification model whereby I will be classifying customers into Silver, Gold and Platinum Service Levels*"
   ]
  },
  {
   "cell_type": "markdown",
   "metadata": {},
   "source": [
    "### Table 1: Label Descriptions\n",
    "\n",
    "\n",
    "|  Label | Explanation                                                                                          |\n",
    "|:-:     |---                                                                                                   |\n",
    "|   0    | Silver Package i.e. A customer is gets Personal Loans, Unit Trusts and Stocks                        |\n",
    "|   1    | Gold Package i.e. Silver Package + Junior Accounts, Fixed Deposit Accounts, Insurance and Mortgages  |\n",
    "|   2    | Platinum Package i.e Gold Package + Safety Deposit and Offshore Banking                              |"
   ]
  },
  {
   "cell_type": "markdown",
   "metadata": {
    "collapsed": true
   },
   "source": [
    "### Table 2: Feature Descriptions\n",
    "\n",
    "| Feature |          Name          | Explanation |\n",
    "|---------|:----------------------:|:-----------:|\n",
    "|    1    | Age                    |  The age of the customer:           |\n",
    "|    2    | Monthly Salary         |  The customer's monthly salary:       |\n",
    "|    3    | Employer Stability     |  The stability of the customer's employer:            |\n",
    "|    4    | Customer Loyalty       |  The number of years the customer has used the bank:           |\n",
    "|    5    | Educational Level      |  The Educational level of the customer:           |\n",
    "|    6    | Employment Status      |   The customer's employment status:          |\n",
    "|    7    | Recurring Bank Balance |  The customer's recurring bank balance:           |\n",
    "|    8    | Residential Status     |   The customer's residential  status:          |\n",
    "                                                 |\n",
    "                                             "
   ]
  },
  {
   "cell_type": "markdown",
   "metadata": {
    "collapsed": true
   },
   "source": [
    "### Artificial Neural Network\n",
    "\n",
    "An artificial neural network is a mathematical model with a variety of applications in science and technology. In particular, ANNs can be used to solve the classification problem introduced above. Different types of ANNs exist. Multilayer Perceptron is a particular type of ANN. Spark MLlib library provides an API for a classifier called Multilayer Perceptron Classifier (MLPC) built on Multilayer Perceptron. A schematic representation of an MLPC consisting of multiple inputs and a single output, which will be used in our example, is shown below."
   ]
  },
  {
   "cell_type": "markdown",
   "metadata": {
    "collapsed": true
   },
   "source": [
    "## Solution Approach"
   ]
  },
  {
   "cell_type": "code",
   "execution_count": null,
   "metadata": {
    "collapsed": true
   },
   "outputs": [],
   "source": []
  }
 ],
 "metadata": {
  "kernelspec": {
   "display_name": "Python 2",
   "language": "python",
   "name": "python2"
  },
  "language_info": {
   "codemirror_mode": {
    "name": "ipython",
    "version": 2
   },
   "file_extension": ".py",
   "mimetype": "text/x-python",
   "name": "python",
   "nbconvert_exporter": "python",
   "pygments_lexer": "ipython2",
   "version": "2.7.13"
  }
 },
 "nbformat": 4,
 "nbformat_minor": 2
}
