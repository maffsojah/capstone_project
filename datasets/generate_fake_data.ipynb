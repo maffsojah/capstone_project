{
 "cells": [
  {
   "cell_type": "code",
   "execution_count": 1,
   "metadata": {
    "collapsed": false
   },
   "outputs": [
    {
     "name": "stdout",
     "output_type": "stream",
     "text": [
      "Populating the interactive namespace from numpy and matplotlib\n"
     ]
    }
   ],
   "source": [
    "%pylab inline"
   ]
  },
  {
   "cell_type": "code",
   "execution_count": 2,
   "metadata": {
    "collapsed": true
   },
   "outputs": [],
   "source": [
    "from faker import Faker\n",
    "from random import random\n",
    "from sklearn.datasets import make_classification\n",
    "\n",
    "import pandas as pd\n",
    "import numpy as np\n",
    "import csv\n",
    "import random"
   ]
  },
  {
   "cell_type": "code",
   "execution_count": 3,
   "metadata": {
    "collapsed": true
   },
   "outputs": [],
   "source": [
    "fake = Faker()"
   ]
  },
  {
   "cell_type": "code",
   "execution_count": 12,
   "metadata": {
    "collapsed": false
   },
   "outputs": [
    {
     "data": {
      "text/html": [
       "<div>\n",
       "<table border=\"1\" class=\"dataframe\">\n",
       "  <thead>\n",
       "    <tr style=\"text-align: right;\">\n",
       "      <th></th>\n",
       "      <th>Name</th>\n",
       "      <th>Gender</th>\n",
       "      <th>Address</th>\n",
       "      <th>Nationality</th>\n",
       "      <th>Account_Type</th>\n",
       "      <th>Age</th>\n",
       "      <th>Education</th>\n",
       "      <th>Employment</th>\n",
       "      <th>Salary</th>\n",
       "      <th>Employer_Stability</th>\n",
       "      <th>Consistency</th>\n",
       "      <th>Balance</th>\n",
       "      <th>Residential_Status</th>\n",
       "    </tr>\n",
       "    <tr>\n",
       "      <th>Customer_ID</th>\n",
       "      <th></th>\n",
       "      <th></th>\n",
       "      <th></th>\n",
       "      <th></th>\n",
       "      <th></th>\n",
       "      <th></th>\n",
       "      <th></th>\n",
       "      <th></th>\n",
       "      <th></th>\n",
       "      <th></th>\n",
       "      <th></th>\n",
       "      <th></th>\n",
       "      <th></th>\n",
       "    </tr>\n",
       "  </thead>\n",
       "  <tbody>\n",
       "    <tr>\n",
       "      <th>0</th>\n",
       "      <td>Mr. Keith Burgess</td>\n",
       "      <td>Female</td>\n",
       "      <td>15643 John Park Apt. 940</td>\n",
       "      <td>Zimbabwean</td>\n",
       "      <td>Current</td>\n",
       "      <td>1</td>\n",
       "      <td>True</td>\n",
       "      <td>1</td>\n",
       "      <td>0</td>\n",
       "      <td>True</td>\n",
       "      <td>True</td>\n",
       "      <td>0</td>\n",
       "      <td>False</td>\n",
       "    </tr>\n",
       "    <tr>\n",
       "      <th>1</th>\n",
       "      <td>Kayla Martinez</td>\n",
       "      <td>Male</td>\n",
       "      <td>951 Acevedo Green Suite 068</td>\n",
       "      <td>Zimbabwean</td>\n",
       "      <td>Savings</td>\n",
       "      <td>0</td>\n",
       "      <td>True</td>\n",
       "      <td>1</td>\n",
       "      <td>0</td>\n",
       "      <td>False</td>\n",
       "      <td>True</td>\n",
       "      <td>0</td>\n",
       "      <td>True</td>\n",
       "    </tr>\n",
       "    <tr>\n",
       "      <th>2</th>\n",
       "      <td>James Osborne</td>\n",
       "      <td>Female</td>\n",
       "      <td>1216 Tricia Shores Suite 779</td>\n",
       "      <td>Zimbabwean</td>\n",
       "      <td>Savings</td>\n",
       "      <td>2</td>\n",
       "      <td>True</td>\n",
       "      <td>0</td>\n",
       "      <td>2</td>\n",
       "      <td>False</td>\n",
       "      <td>True</td>\n",
       "      <td>2</td>\n",
       "      <td>True</td>\n",
       "    </tr>\n",
       "    <tr>\n",
       "      <th>3</th>\n",
       "      <td>Sherri Williams</td>\n",
       "      <td>Male</td>\n",
       "      <td>56198 Jacob Harbors</td>\n",
       "      <td>Zimbabwean</td>\n",
       "      <td>Current</td>\n",
       "      <td>1</td>\n",
       "      <td>True</td>\n",
       "      <td>1</td>\n",
       "      <td>1</td>\n",
       "      <td>True</td>\n",
       "      <td>False</td>\n",
       "      <td>2</td>\n",
       "      <td>True</td>\n",
       "    </tr>\n",
       "    <tr>\n",
       "      <th>4</th>\n",
       "      <td>Dr. Tracey Hardy</td>\n",
       "      <td>Male</td>\n",
       "      <td>0841 Brandon Branch</td>\n",
       "      <td>Zimbabwean</td>\n",
       "      <td>Savings</td>\n",
       "      <td>2</td>\n",
       "      <td>True</td>\n",
       "      <td>0</td>\n",
       "      <td>1</td>\n",
       "      <td>True</td>\n",
       "      <td>False</td>\n",
       "      <td>0</td>\n",
       "      <td>True</td>\n",
       "    </tr>\n",
       "  </tbody>\n",
       "</table>\n",
       "</div>"
      ],
      "text/plain": [
       "                          Name  Gender                       Address  \\\n",
       "Customer_ID                                                            \n",
       "0            Mr. Keith Burgess  Female      15643 John Park Apt. 940   \n",
       "1               Kayla Martinez    Male   951 Acevedo Green Suite 068   \n",
       "2                James Osborne  Female  1216 Tricia Shores Suite 779   \n",
       "3              Sherri Williams    Male           56198 Jacob Harbors   \n",
       "4             Dr. Tracey Hardy    Male           0841 Brandon Branch   \n",
       "\n",
       "            Nationality Account_Type  Age Education  Employment  Salary  \\\n",
       "Customer_ID                                                               \n",
       "0            Zimbabwean      Current    1      True           1       0   \n",
       "1            Zimbabwean      Savings    0      True           1       0   \n",
       "2            Zimbabwean      Savings    2      True           0       2   \n",
       "3            Zimbabwean      Current    1      True           1       1   \n",
       "4            Zimbabwean      Savings    2      True           0       1   \n",
       "\n",
       "            Employer_Stability Consistency  Balance Residential_Status  \n",
       "Customer_ID                                                             \n",
       "0                         True        True        0              False  \n",
       "1                        False        True        0               True  \n",
       "2                        False        True        2               True  \n",
       "3                         True       False        2               True  \n",
       "4                         True       False        0               True  "
      ]
     },
     "execution_count": 12,
     "metadata": {},
     "output_type": "execute_result"
    }
   ],
   "source": [
    "# changing column data with faker\n",
    "\n",
    "accounts_list = ['Savings', 'Current']\n",
    "sex_list = ['Male', 'Female']\n",
    "# names_list = [fake.name_female(), fake.name_male()]\n",
    "\n",
    "# Fake Data Generator function\n",
    " \n",
    "def fake_data():\n",
    "    return{'Name': fake.name(), \n",
    "           'Gender': random.choice(sex_list),\n",
    "           'Address': fake.street_address(), \n",
    "           'Nationality': 'Zimbabwean', \n",
    "           'Account_Type': random.choice(accounts_list), \n",
    "           'Age': random.randint(0, 2), \n",
    "           'Education': random.random() > 0.5, \n",
    "           'Employment': random.randint(0, 2),\n",
    "           'Salary': random.randint(0, 2),\n",
    "           'Employer_Stability': random.random() > 0.5,\n",
    "           'Consistency': random.random() > 0.5,\n",
    "           'Balance': random.randint(0, 2),\n",
    "           'Residential_Status': random.random() > 0.5\n",
    "          }\n",
    "\n",
    "\n",
    "df = pd.DataFrame([fake_data() for _ in range(100000)], columns = ['Name', 'Gender', 'Address', 'Nationality', 'Account_Type', 'Age','Education', 'Employment', 'Salary', 'Employer_Stability', 'Consistency', 'Balance', 'Residential_Status'])\n",
    "df.index.names = ['Customer_ID']\n",
    "df.head()"
   ]
  },
  {
   "cell_type": "code",
   "execution_count": 13,
   "metadata": {
    "collapsed": false
   },
   "outputs": [
    {
     "data": {
      "text/plain": [
       "Name                  object\n",
       "Gender                object\n",
       "Address               object\n",
       "Nationality           object\n",
       "Account_Type          object\n",
       "Age                    int64\n",
       "Education               bool\n",
       "Employment             int64\n",
       "Salary                 int64\n",
       "Employer_Stability      bool\n",
       "Consistency             bool\n",
       "Balance                int64\n",
       "Residential_Status      bool\n",
       "dtype: object"
      ]
     },
     "execution_count": 13,
     "metadata": {},
     "output_type": "execute_result"
    }
   ],
   "source": [
    "# print the DataFrame to CSV file\n",
    "# df.write.csv('mycsv.csv')\n",
    "df.to_csv('train_data.csv')\n",
    "df.dtypes"
   ]
  },
  {
   "cell_type": "code",
   "execution_count": null,
   "metadata": {
    "collapsed": true
   },
   "outputs": [],
   "source": []
  }
 ],
 "metadata": {
  "anaconda-cloud": {},
  "kernelspec": {
   "display_name": "Python [conda root]",
   "language": "python",
   "name": "conda-root-py"
  },
  "language_info": {
   "codemirror_mode": {
    "name": "ipython",
    "version": 2
   },
   "file_extension": ".py",
   "mimetype": "text/x-python",
   "name": "python",
   "nbconvert_exporter": "python",
   "pygments_lexer": "ipython2",
   "version": "2.7.12"
  }
 },
 "nbformat": 4,
 "nbformat_minor": 1
}
