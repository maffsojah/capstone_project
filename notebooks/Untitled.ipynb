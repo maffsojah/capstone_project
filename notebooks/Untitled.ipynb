{
 "cells": [
  {
   "cell_type": "code",
   "execution_count": 1,
   "metadata": {
    "collapsed": true
   },
   "outputs": [],
   "source": [
    "x = 19"
   ]
  },
  {
   "cell_type": "code",
   "execution_count": 2,
   "metadata": {
    "collapsed": false
   },
   "outputs": [
    {
     "name": "stdout",
     "output_type": "stream",
     "text": [
      "yeah\n"
     ]
    }
   ],
   "source": [
    "if 5 < x <= 10:\n",
    "    print 0\n",
    "else:\n",
    "    print 'yeah'"
   ]
  },
  {
   "cell_type": "code",
   "execution_count": 3,
   "metadata": {
    "collapsed": true
   },
   "outputs": [],
   "source": [
    "age_zero = '60 +'\n",
    "age_one = '36 - 59'\n",
    "age_two = '18 - 35'\n",
    "edu_zero = 'Highschool and below'\n",
    "edu_one = 'Tertiary and above'\n",
    "empl_zero = 'Student'\n",
    "empl_one = 'Contract'\n",
    "empl_two = 'Permanent'\n",
    "job_zero = 'Unstable'\n",
    "job_one = 'Stable'\n",
    "res_zero = 'Rented'\n",
    "res_one = 'Owned'"
   ]
  },
  {
   "cell_type": "code",
   "execution_count": 4,
   "metadata": {
    "collapsed": false
   },
   "outputs": [
    {
     "name": "stdout",
     "output_type": "stream",
     "text": [
      "60 +\n"
     ]
    }
   ],
   "source": [
    "print age_zero"
   ]
  },
  {
   "cell_type": "code",
   "execution_count": 5,
   "metadata": {
    "collapsed": true
   },
   "outputs": [],
   "source": [
    "age_zero = 0"
   ]
  },
  {
   "cell_type": "code",
   "execution_count": 6,
   "metadata": {
    "collapsed": false
   },
   "outputs": [
    {
     "name": "stdout",
     "output_type": "stream",
     "text": [
      "0\n"
     ]
    }
   ],
   "source": [
    "print age_zero"
   ]
  },
  {
   "cell_type": "code",
   "execution_count": null,
   "metadata": {
    "collapsed": true
   },
   "outputs": [],
   "source": [
    "'60 +' = 0\n",
    "'36 - 59' = 1\n",
    "'18 - 35' = 2\n",
    "'Highschool and below' = 0\n",
    "'Tertiary and above' = 1\n",
    "'Student' = 0\n",
    "'Contract' = 1\n",
    "'Permanent' = 2\n",
    "'Unstable' = 0\n",
    "'Stable' = 1\n",
    "'Rented' = 0\n",
    "'Owned' = 1"
   ]
  },
  {
   "cell_type": "code",
   "execution_count": 2,
   "metadata": {
    "collapsed": true
   },
   "outputs": [],
   "source": [
    "import operator"
   ]
  },
  {
   "cell_type": "markdown",
   "metadata": {
    "collapsed": true
   },
   "source": [
    " \n",
    "\n"
   ]
  },
  {
   "cell_type": "code",
   "execution_count": 3,
   "metadata": {
    "collapsed": false
   },
   "outputs": [],
   "source": [
    "class operable:\n",
    "    def __init__(self, f):\n",
    "        self.f = f\n",
    "    def __call__(self, x):\n",
    "        return self.f(x)\n",
    " \n",
    "def op_to_function_op(op):\n",
    "    def function_op(self, operand):\n",
    "        def f(x):\n",
    "            return op(self(x), operand(x))\n",
    "        return operable(f)\n",
    "    return function_op\n",
    " \n",
    "for name, op in [(name, getattr(operator, name)) for name in dir(operator) if \"__\" in name]:\n",
    "    try:\n",
    "        op(1,2)\n",
    "    except TypeError:\n",
    "        pass\n",
    "    else:\n",
    "        setattr(operable, name, op_to_function_op(op))"
   ]
  },
  {
   "cell_type": "code",
   "execution_count": 9,
   "metadata": {
    "collapsed": true
   },
   "outputs": [],
   "source": [
    "@operable\n",
    "def a(x):\n",
    "    return 2*x\n",
    " \n",
    "def b(x):\n",
    "    return x*2"
   ]
  },
  {
   "cell_type": "code",
   "execution_count": 10,
   "metadata": {
    "collapsed": false
   },
   "outputs": [
    {
     "name": "stdout",
     "output_type": "stream",
     "text": [
      "20\n"
     ]
    }
   ],
   "source": [
    "c = a + b\n",
    "print(c(5))"
   ]
  },
  {
   "cell_type": "markdown",
   "metadata": {
    "collapsed": true
   },
   "source": [
    "﻿# Android Based HoneyClient\n",
    "\n",
    "This repository contains the source code and packaged files for the HIT400 - Capstone Project developed by Hellen Vesera. The system detects and analyses attacks originating from the web through the use of an Android Based Honey Client.  \n",
    "It saves the malicious urls and blacklists them.  \n",
    "\n",
    "\n",
    "## Contributors\n",
    "- Hellen Vesera  (Initial Work)\n",
    "- Mr W. Mambodza (Supervisor)\n",
    "\n",
    "\n",
    "## Dependencies\n",
    "\n",
    "This project requires the following for development and deployment\n",
    "- [Android Studio](https://developer.android.com/studio/index.html)\n",
    "- Android device  \n",
    "- Web Browser - *Google Chrome, Safari, IE and Mozilla Firefox*\n",
    "\n",
    "\n",
    "## Installation\n",
    "\n",
    "1. First, a user needs to access ahc.zip file.\n",
    "2. After a successful decompression process, the user should obtain “AHC-HIT400 By Hellen Veseera H1313000A” folder.\n",
    "3. The user should double click the obtained folder.\n",
    "4. The user can then look for AHC_v1.0  file that is of type application.\n",
    "5. The user should double-click that application to install and start using the Honey Client.\n",
    "6. Start by enabling `Unknown Sources` on your Android Mobile Device.  \n",
    "7. Install the system apk file **AHC.apk** on your device and run it \n",
    "\n",
    "\n",
    "## Deployment\n",
    "\n",
    "#### Android Application\n",
    "The Honey Client (Android Application) provides an interface to add urls, analyse and create logs whic will be used for blacklisting alicious urls.  \n",
    "The following are the steps to use the application:  \n",
    "\n",
    "1. Open the Android Honey Client and enter urls on the text box\n",
    "2. press **ADD** to add the urls to list and then **Proceed** to switch to the Analysis screen\n",
    "3.The user can then press ADD to populate the URLs\n",
    "4. The URL can be one or more\n",
    "5. The URL should be in the form of: (http://www.example.com)\n",
    "6. If the user wants to delete the added URL, he/she long click it.\n",
    "7. The user then press PROCEED to start analysing the content on the URL\n",
    "8. The system renders a page if the content is not malicious\n",
    "9. If the content is malicious the system reports that the page contains a hidden iframe which references to an apk file which maybe harmful\n",
    "10. Logs are created internally and externally, the logs activity involves the URL, Time and Date and Results\n",
    "11. The user can press VIEW LOGS on the home screen to view the logs internally\n",
    "12. Logs are stored in the internal storage-android-data-com.hellen.vhc folder externally\n",
    "13. The malicious pages are blacklisted\n",
    "\n",
    "\n",
    "## Acknowledgements\n",
    "This project consumed huge amount of work, research and dedication. \n",
    "Still, implementation would not have been possible if l did not have a support of many individuals and organizations. \n",
    "Therefore we would like to extend my sincere gratitude to all of them.  \n",
    "First of all I am thankful to the  Almighty  who is the  author  and  finisher  of my  life  for giving me strength and the gift of life. \n",
    "I’m also grateful to Harare Institute of Technology for giving me the opportunity to pursue this programme and increase knowledge.\n",
    " A big thank you to my supervisor Mr Mambodza and the Information Security lecturers for provision of expertise, and technical support in the implementation.  \n",
    " l would like to express my sincere thanks to my friends and classmates who devoted their time and knowledge in the implementation of this project. \n",
    " Nevertheless, l express my gratitude towards my families for their kind co-operation and encouragement which helped me in completion of this project.\n"
   ]
  },
  {
   "cell_type": "code",
   "execution_count": null,
   "metadata": {
    "collapsed": true
   },
   "outputs": [],
   "source": []
  }
 ],
 "metadata": {
  "kernelspec": {
   "display_name": "Python 2",
   "language": "python",
   "name": "python2"
  }
 },
 "nbformat": 4,
 "nbformat_minor": 2
}
