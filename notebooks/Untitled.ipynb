{
 "cells": [
  {
   "cell_type": "code",
   "execution_count": 1,
   "metadata": {
    "collapsed": true
   },
   "outputs": [],
   "source": [
    "x = 19"
   ]
  },
  {
   "cell_type": "code",
   "execution_count": 2,
   "metadata": {
    "collapsed": false
   },
   "outputs": [
    {
     "name": "stdout",
     "output_type": "stream",
     "text": [
      "yeah\n"
     ]
    }
   ],
   "source": [
    "if 5 < x <= 10:\n",
    "    print 0\n",
    "else:\n",
    "    print 'yeah'"
   ]
  },
  {
   "cell_type": "code",
   "execution_count": 3,
   "metadata": {
    "collapsed": true
   },
   "outputs": [],
   "source": [
    "age_zero = '60 +'\n",
    "age_one = '36 - 59'\n",
    "age_two = '18 - 35'\n",
    "edu_zero = 'Highschool and below'\n",
    "edu_one = 'Tertiary and above'\n",
    "empl_zero = 'Student'\n",
    "empl_one = 'Contract'\n",
    "empl_two = 'Permanent'\n",
    "job_zero = 'Unstable'\n",
    "job_one = 'Stable'\n",
    "res_zero = 'Rented'\n",
    "res_one = 'Owned'"
   ]
  },
  {
   "cell_type": "code",
   "execution_count": 4,
   "metadata": {
    "collapsed": false
   },
   "outputs": [
    {
     "name": "stdout",
     "output_type": "stream",
     "text": [
      "60 +\n"
     ]
    }
   ],
   "source": [
    "print age_zero"
   ]
  },
  {
   "cell_type": "code",
   "execution_count": 5,
   "metadata": {
    "collapsed": true
   },
   "outputs": [],
   "source": [
    "age_zero = 0"
   ]
  },
  {
   "cell_type": "code",
   "execution_count": 6,
   "metadata": {
    "collapsed": false
   },
   "outputs": [
    {
     "name": "stdout",
     "output_type": "stream",
     "text": [
      "0\n"
     ]
    }
   ],
   "source": [
    "print age_zero"
   ]
  },
  {
   "cell_type": "code",
   "execution_count": null,
   "metadata": {
    "collapsed": true
   },
   "outputs": [],
   "source": [
    "'60 +' = 0\n",
    "'36 - 59' = 1\n",
    "'18 - 35' = 2\n",
    "'Highschool and below' = 0\n",
    "'Tertiary and above' = 1\n",
    "'Student' = 0\n",
    "'Contract' = 1\n",
    "'Permanent' = 2\n",
    "'Unstable' = 0\n",
    "'Stable' = 1\n",
    "'Rented' = 0\n",
    "'Owned' = 1"
   ]
  },
  {
   "cell_type": "code",
   "execution_count": 7,
   "metadata": {
    "collapsed": false
   },
   "outputs": [
    {
     "ename": "NameError",
     "evalue": "name 'age' is not defined",
     "output_type": "error",
     "traceback": [
      "\u001b[0;31m---------------------------------------------------------------------------\u001b[0m",
      "\u001b[0;31mNameError\u001b[0m                                 Traceback (most recent call last)",
      "\u001b[0;32m<ipython-input-7-1d11747e9327>\u001b[0m in \u001b[0;36m<module>\u001b[0;34m()\u001b[0m\n\u001b[0;32m----> 1\u001b[0;31m \u001b[0mfeat_list\u001b[0m \u001b[0;34m=\u001b[0m \u001b[0mage\u001b[0m \u001b[0;34m+\u001b[0m \u001b[0meducation\u001b[0m \u001b[0;34m+\u001b[0m \u001b[0memployment\u001b[0m \u001b[0;34m+\u001b[0m \u001b[0mstability\u001b[0m \u001b[0;34m+\u001b[0m \u001b[0mresidential\u001b[0m \u001b[0;34m+\u001b[0m \u001b[0msalary\u001b[0m \u001b[0;34m+\u001b[0m \u001b[0mloyalty\u001b[0m \u001b[0;34m+\u001b[0m \u001b[0mbalance\u001b[0m\u001b[0;34m\u001b[0m\u001b[0m\n\u001b[0m",
      "\u001b[0;31mNameError\u001b[0m: name 'age' is not defined"
     ]
    }
   ],
   "source": [
    "feat_list = age + education + employment + stability + residential + salary + loyalty + balance"
   ]
  },
  {
   "cell_type": "code",
   "execution_count": null,
   "metadata": {
    "collapsed": true
   },
   "outputs": [],
   "source": []
  }
 ],
 "metadata": {
  "kernelspec": {
   "display_name": "Python 2",
   "language": "python",
   "name": "python2"
  },
  "language_info": {
   "codemirror_mode": {
    "name": "ipython",
    "version": 2
   },
   "file_extension": ".py",
   "mimetype": "text/x-python",
   "name": "python",
   "nbconvert_exporter": "python",
   "pygments_lexer": "ipython2",
   "version": "2.7.13"
  }
 },
 "nbformat": 4,
 "nbformat_minor": 2
}
