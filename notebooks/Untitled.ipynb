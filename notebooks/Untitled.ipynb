{
 "cells": [
  {
   "cell_type": "code",
   "execution_count": 1,
   "metadata": {
    "collapsed": true
   },
   "outputs": [],
   "source": [
    "x = 19"
   ]
  },
  {
   "cell_type": "code",
   "execution_count": 2,
   "metadata": {
    "collapsed": false
   },
   "outputs": [
    {
     "name": "stdout",
     "output_type": "stream",
     "text": [
      "yeah\n"
     ]
    }
   ],
   "source": [
    "if 5 < x <= 10:\n",
    "    print 0\n",
    "else:\n",
    "    print 'yeah'"
   ]
  },
  {
   "cell_type": "code",
   "execution_count": 3,
   "metadata": {
    "collapsed": true
   },
   "outputs": [],
   "source": [
    "age_zero = '60 +'\n",
    "age_one = '36 - 59'\n",
    "age_two = '18 - 35'\n",
    "edu_zero = 'Highschool and below'\n",
    "edu_one = 'Tertiary and above'\n",
    "empl_zero = 'Student'\n",
    "empl_one = 'Contract'\n",
    "empl_two = 'Permanent'\n",
    "job_zero = 'Unstable'\n",
    "job_one = 'Stable'\n",
    "res_zero = 'Rented'\n",
    "res_one = 'Owned'"
   ]
  },
  {
   "cell_type": "code",
   "execution_count": 4,
   "metadata": {
    "collapsed": false
   },
   "outputs": [
    {
     "name": "stdout",
     "output_type": "stream",
     "text": [
      "60 +\n"
     ]
    }
   ],
   "source": [
    "print age_zero"
   ]
  },
  {
   "cell_type": "code",
   "execution_count": 5,
   "metadata": {
    "collapsed": true
   },
   "outputs": [],
   "source": [
    "age_zero = 0"
   ]
  },
  {
   "cell_type": "code",
   "execution_count": 6,
   "metadata": {
    "collapsed": false
   },
   "outputs": [
    {
     "name": "stdout",
     "output_type": "stream",
     "text": [
      "0\n"
     ]
    }
   ],
   "source": [
    "print age_zero"
   ]
  },
  {
   "cell_type": "code",
   "execution_count": null,
   "metadata": {
    "collapsed": true
   },
   "outputs": [],
   "source": [
    "'60 +' = 0\n",
    "'36 - 59' = 1\n",
    "'18 - 35' = 2\n",
    "'Highschool and below' = 0\n",
    "'Tertiary and above' = 1\n",
    "'Student' = 0\n",
    "'Contract' = 1\n",
    "'Permanent' = 2\n",
    "'Unstable' = 0\n",
    "'Stable' = 1\n",
    "'Rented' = 0\n",
    "'Owned' = 1"
   ]
  },
  {
   "cell_type": "code",
   "execution_count": 2,
   "metadata": {
    "collapsed": true
   },
   "outputs": [],
   "source": [
    "import operator"
   ]
  },
  {
   "cell_type": "markdown",
   "metadata": {
    "collapsed": true
   },
   "source": [
    " \n",
    "\n"
   ]
  },
  {
   "cell_type": "code",
   "execution_count": 3,
   "metadata": {
    "collapsed": false
   },
   "outputs": [],
   "source": [
    "class operable:\n",
    "    def __init__(self, f):\n",
    "        self.f = f\n",
    "    def __call__(self, x):\n",
    "        return self.f(x)\n",
    " \n",
    "def op_to_function_op(op):\n",
    "    def function_op(self, operand):\n",
    "        def f(x):\n",
    "            return op(self(x), operand(x))\n",
    "        return operable(f)\n",
    "    return function_op\n",
    " \n",
    "for name, op in [(name, getattr(operator, name)) for name in dir(operator) if \"__\" in name]:\n",
    "    try:\n",
    "        op(1,2)\n",
    "    except TypeError:\n",
    "        pass\n",
    "    else:\n",
    "        setattr(operable, name, op_to_function_op(op))"
   ]
  },
  {
   "cell_type": "code",
   "execution_count": 9,
   "metadata": {
    "collapsed": true
   },
   "outputs": [],
   "source": [
    "@operable\n",
    "def a(x):\n",
    "    return 2*x\n",
    " \n",
    "def b(x):\n",
    "    return x*2"
   ]
  },
  {
   "cell_type": "code",
   "execution_count": 10,
   "metadata": {
    "collapsed": false
   },
   "outputs": [
    {
     "name": "stdout",
     "output_type": "stream",
     "text": [
      "20\n"
     ]
    }
   ],
   "source": [
    "c = a + b\n",
    "print(c(5))"
   ]
  },
  {
   "cell_type": "code",
   "execution_count": null,
   "metadata": {
    "collapsed": true
   },
   "outputs": [],
   "source": []
  }
 ],
 "metadata": {
  "kernelspec": {
   "display_name": "Python 2",
   "language": "python",
   "name": "python2"
  },
  "language_info": {
   "codemirror_mode": {
    "name": "ipython",
    "version": 2
   },
   "file_extension": ".py",
   "mimetype": "text/x-python",
   "name": "python",
   "nbconvert_exporter": "python",
   "pygments_lexer": "ipython2",
   "version": "2.7.13"
  }
 },
 "nbformat": 4,
 "nbformat_minor": 2
}
